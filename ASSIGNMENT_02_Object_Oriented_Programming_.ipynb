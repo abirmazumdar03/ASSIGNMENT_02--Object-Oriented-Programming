{
  "nbformat": 4,
  "nbformat_minor": 0,
  "metadata": {
    "colab": {
      "provenance": []
    },
    "kernelspec": {
      "name": "python3",
      "display_name": "Python 3"
    },
    "language_info": {
      "name": "python"
    }
  },
  "cells": [
    {
      "cell_type": "markdown",
      "source": [
        "**Q1. Explain the importance of Functions.**\n",
        "\n",
        "\n",
        "The importance of functions are as follows :\n",
        "1.   **Reuseability** : Functions allows to write a block of code once and gives you the leverage of using it multiple times in your program or in different program. Thus saving a lot of time and effort to write the same code logic repeatdily.\n",
        "\n",
        "2.   **Modularity** : Functions help to break down complex task to simple self-contained units.These units enhances the organuization , redability and maintainibllity of your overall code segment there by making it easy for both an individual as well as team to understand and modify individual parts of a program easily.\n",
        "\n",
        "3.   **Debugging** : Since functions encapsulates a particular task logic its becomes a lot easier to isolate potential errors. As you can focus on that faulty function instead of looking out in the entire codebase.\n",
        "\n",
        "\n",
        "\n"
      ],
      "metadata": {
        "id": "5-wMvlpW83q5"
      }
    },
    {
      "cell_type": "markdown",
      "source": [
        "**Q2. Write a basic function to greet students.**"
      ],
      "metadata": {
        "id": "9B5hBOauEQX-"
      }
    },
    {
      "cell_type": "code",
      "source": [
        "def Greetings(name):\n",
        "  print(f\"Hello {name} welcome to the class of DataScience and Generative AI\")\n",
        "\n",
        "for i in (\"Sam\",\"Bob\",\"Priya\",\"Riya\"):\n",
        "  Greetings(i)"
      ],
      "metadata": {
        "colab": {
          "base_uri": "https://localhost:8080/"
        },
        "id": "Rr4fxH9wEP0d",
        "outputId": "46b72e4a-9c33-4d57-a30d-cdc503d13ae7"
      },
      "execution_count": null,
      "outputs": [
        {
          "output_type": "stream",
          "name": "stdout",
          "text": [
            "Hello Sam welcome to the class of DataScience and Generative AI\n",
            "Hello Bob welcome to the class of DataScience and Generative AI\n",
            "Hello Priya welcome to the class of DataScience and Generative AI\n",
            "Hello Riya welcome to the class of DataScience and Generative AI\n"
          ]
        }
      ]
    },
    {
      "cell_type": "markdown",
      "source": [
        "**Q3. What is the difference between print and return statements?**\n",
        "\n",
        "* **print** : print statement in python is used to print the contents present inside the \" \" to the OUTPUT console.\n",
        "\n",
        "* **return** : the return keyword is used inside a function/method to passback/sendback the value which is being computed when the function/method is invoked to its parent function from where it was invoked"
      ],
      "metadata": {
        "id": "fkOeXtjWoG1d"
      }
    },
    {
      "cell_type": "markdown",
      "source": [
        "**Q4. What are * args and **kwargs?**\n",
        "\n",
        "1. *args : 1. refers to the paradime of varaible length positional agruments\n",
        "           2. it take varaible positional arguments and returns in the form of tuples\n",
        "\n",
        "2. **kwargs : 1. refers to the paradime of varaible length keyword arguments\n",
        "              2. it takes varaible length keyword arguments and returns in the form of Dictionary key value pair."
      ],
      "metadata": {
        "id": "9FAqoLdepjn9"
      }
    },
    {
      "cell_type": "markdown",
      "source": [
        "**Q5. Explain the iterator function.**\n",
        "\n",
        "Help on built-in function iter in module builtins:\n",
        "\n",
        "iter(...)\n",
        "  Get an iterator from an object.\n",
        "   In the first form, the argument must supply its own iterator, or be a sequence. In the second form, the callable is called until it returns the sentinel."
      ],
      "metadata": {
        "id": "v9RcEbdqqsDs"
      }
    },
    {
      "cell_type": "markdown",
      "source": [
        "**Q6 Write a code that generates the squares of numbers from 1 to n using a generator.**"
      ],
      "metadata": {
        "id": "qTR58UpWSpII"
      }
    },
    {
      "cell_type": "code",
      "source": [
        "def sqaure_generator(n):   #Function to gebnerate the squares of numbers\n",
        "  for i in range(1,n+1):\n",
        "    yield(i**2)\n",
        "\n",
        "sq=sqaure_generator(int(input(\"Enter a Limit for the SQAURE Number Generators : \")))\n",
        "print(\"Squares of numbers : \")\n",
        "for i in sq:\n",
        "  print(f\"{i}\",end=' ')"
      ],
      "metadata": {
        "colab": {
          "base_uri": "https://localhost:8080/"
        },
        "id": "wYeqNUhES2Yr",
        "outputId": "e61bcc32-89fa-4870-d6d5-f89fa5601186"
      },
      "execution_count": null,
      "outputs": [
        {
          "output_type": "stream",
          "name": "stdout",
          "text": [
            "Enter a Limit for the SQAURE Number Generators : 78\n",
            "Squares of numbers : \n",
            "1 4 9 16 25 36 49 64 81 100 121 144 169 196 225 256 289 324 361 400 441 484 529 576 625 676 729 784 841 900 961 1024 1089 1156 1225 1296 1369 1444 1521 1600 1681 1764 1849 1936 2025 2116 2209 2304 2401 2500 2601 2704 2809 2916 3025 3136 3249 3364 3481 3600 3721 3844 3969 4096 4225 4356 4489 4624 4761 4900 5041 5184 5329 5476 5625 5776 5929 6084 "
          ]
        }
      ]
    },
    {
      "cell_type": "markdown",
      "source": [
        "**Q7. Write a code that generates palindromic numbers up to n using a generator.**"
      ],
      "metadata": {
        "id": "_CWyjtT_RYOa"
      }
    },
    {
      "cell_type": "code",
      "source": [
        "def Palindromic_Generator(n): # Creating a iterable object of palindromic numbers\n",
        "    for i in range(n+1):\n",
        "        if(str(i)==str(i)[::-1]):  # Logic to check for plaindromic numbers\n",
        "            yield i\n",
        "\n",
        "palin_obj=Palindromic_Generator(int(input(\"Enter a Limit : \")))\n",
        "#print(type(palin_obj))\n",
        "for i in (palin_obj):\n",
        "    print(i,end=' ')"
      ],
      "metadata": {
        "colab": {
          "base_uri": "https://localhost:8080/"
        },
        "id": "6gwyDe86RbXU",
        "outputId": "f76e777d-263a-4689-c170-6eef92ebc4d4"
      },
      "execution_count": null,
      "outputs": [
        {
          "output_type": "stream",
          "name": "stdout",
          "text": [
            "Enter a Limit : 45\n",
            "0 1 2 3 4 5 6 7 8 9 11 22 33 44 "
          ]
        }
      ]
    },
    {
      "cell_type": "markdown",
      "source": [
        "**Q8 Write a Code that generates Even Number from 2 to n using Generators**"
      ],
      "metadata": {
        "id": "QtS26M3Z6pTn"
      }
    },
    {
      "cell_type": "code",
      "execution_count": null,
      "metadata": {
        "colab": {
          "base_uri": "https://localhost:8080/"
        },
        "id": "rxCRK4nJ4pEM",
        "outputId": "71fb64b4-b6dd-4034-82b0-30a6eb81c120"
      },
      "outputs": [
        {
          "output_type": "stream",
          "name": "stdout",
          "text": [
            "Enter a Limit for the Even Generators : 23\n",
            "2 4 6 8 10 12 14 16 18 20 22 "
          ]
        }
      ],
      "source": [
        "def Even_Generators(n):   #Function to generate even number range using Generators\n",
        "  for i in range(2,n+1,2):\n",
        "    yield i   # Generating and storing even numbers in the memeory\n",
        "\n",
        "for i in Even_Generators(int(input(\"Enter a Limit for the Even Generators : \"))):\n",
        "  print(f\"{i}\",end=' ')"
      ]
    },
    {
      "cell_type": "markdown",
      "source": [
        "**Q9 Write a code that generates powers of two up to n using a generator.**"
      ],
      "metadata": {
        "id": "HC1c0s1qV4YP"
      }
    },
    {
      "cell_type": "code",
      "source": [
        "def Power_Two_Generator(n):  #Function to generate Power's of 2 using generator function\n",
        "  for i in range(n+1):\n",
        "    yield(2**i)\n",
        "for i in Power_Two_Generator(int(input(\"Enter a Limit\"))):\n",
        "  print(f\"{i}\",end=' ')"
      ],
      "metadata": {
        "colab": {
          "base_uri": "https://localhost:8080/"
        },
        "id": "Z81UkCDMV5uw",
        "outputId": "9b3f7e13-015b-43ae-d7bc-dfee38969e57"
      },
      "execution_count": null,
      "outputs": [
        {
          "output_type": "stream",
          "name": "stdout",
          "text": [
            "Enter a Limit69\n",
            "1 2 4 8 16 32 64 128 256 512 1024 2048 4096 8192 16384 32768 65536 131072 262144 524288 1048576 2097152 4194304 8388608 16777216 33554432 67108864 134217728 268435456 536870912 1073741824 2147483648 4294967296 8589934592 17179869184 34359738368 68719476736 137438953472 274877906944 549755813888 1099511627776 2199023255552 4398046511104 8796093022208 17592186044416 35184372088832 70368744177664 140737488355328 281474976710656 562949953421312 1125899906842624 2251799813685248 4503599627370496 9007199254740992 18014398509481984 36028797018963968 72057594037927936 144115188075855872 288230376151711744 576460752303423488 1152921504606846976 2305843009213693952 4611686018427387904 9223372036854775808 18446744073709551616 36893488147419103232 73786976294838206464 147573952589676412928 295147905179352825856 590295810358705651712 "
          ]
        }
      ]
    },
    {
      "cell_type": "markdown",
      "source": [
        "**Q10 Write a code that generates prime numbers up to n using a generator.**"
      ],
      "metadata": {
        "id": "xAnSEDISZiZd"
      }
    },
    {
      "cell_type": "code",
      "source": [
        "from math import sqrt  # importing the sqrt function from math module\n",
        "\n",
        "def is_prime(num):  #Function to check for the number is prime or not and return true or false as per according to that\n",
        "  flag=0  #This flag mainatins the status whether number(num) is prime or not i.e flag=0 (prime) else not prime\n",
        "  for i in range(2,(int(sqrt(num)+1))):\n",
        "    if(num%i==0):\n",
        "      flag=1; break\n",
        "  return(True if(not flag) else  False)\n",
        "\n",
        "def Number_Generator(n):  #Generating function for prime numbers\n",
        "  for i in range(2,n+1):\n",
        "    if(is_prime(i)):\n",
        "      yield i\n",
        "print(\"The Prime Numbers are as follows : \")\n",
        "for i in Number_Generator(int(input(\"Enter a Limit : \"))):\n",
        "  print(f\"{i}\",end=' ')"
      ],
      "metadata": {
        "colab": {
          "base_uri": "https://localhost:8080/"
        },
        "id": "jQC6ytgHZi_b",
        "outputId": "da40f4dd-fafa-4947-d217-7489fe5db739"
      },
      "execution_count": null,
      "outputs": [
        {
          "output_type": "stream",
          "name": "stdout",
          "text": [
            "The Prime Numbers are as follows : \n",
            "Enter a Limit : 150\n",
            "2 3 5 7 11 13 17 19 23 29 31 37 41 43 47 53 59 61 67 71 73 79 83 89 97 101 103 107 109 113 127 131 137 139 149 "
          ]
        }
      ]
    },
    {
      "cell_type": "markdown",
      "source": [
        "**Q11 Write a code that uses a lambda function to calculate the sum of two numbers.**"
      ],
      "metadata": {
        "id": "dfTUOH8f2nDc"
      }
    },
    {
      "cell_type": "code",
      "source": [
        "sum_num=lambda x,y : (x+y)\n",
        "print(f\"The sum of 36 and 78 is {sum_num(36,78)}\")"
      ],
      "metadata": {
        "colab": {
          "base_uri": "https://localhost:8080/"
        },
        "id": "9dOIZ_F_25_7",
        "outputId": "f63abe8d-4273-48d9-bcd5-32e158e8e8a8"
      },
      "execution_count": null,
      "outputs": [
        {
          "output_type": "stream",
          "name": "stdout",
          "text": [
            "The sum of 36 and 78 is 114\n"
          ]
        }
      ]
    },
    {
      "cell_type": "markdown",
      "source": [
        "**Q12 Write a code that uses a lambda function to calculate the square of a given number.**"
      ],
      "metadata": {
        "id": "9isVrMPe4bxI"
      }
    },
    {
      "cell_type": "code",
      "source": [
        "sq_num=lambda x : x**2\n",
        "num=25\n",
        "print(f\"The Square of {num} is {sq_num(num)} \")"
      ],
      "metadata": {
        "colab": {
          "base_uri": "https://localhost:8080/"
        },
        "id": "KTcfpZ7j4cQy",
        "outputId": "7f3d670f-a092-402c-e04c-b5320ca83167"
      },
      "execution_count": null,
      "outputs": [
        {
          "output_type": "stream",
          "name": "stdout",
          "text": [
            "The Square of 25 is 625 \n"
          ]
        }
      ]
    },
    {
      "cell_type": "markdown",
      "source": [
        "**Q13 Write a code that uses a lambda function to check whether a given number is Even or Odd**"
      ],
      "metadata": {
        "id": "k3IilfDm5bIp"
      }
    },
    {
      "cell_type": "code",
      "source": [
        "check=lambda x : \"Even\" if(x%2==0) else \"Odd\"  # Lambda function to check for Even or Odd Number\n",
        "\n",
        "for i in (45,22,46,89):  # A tuple of sample numbers to check for Even and Odd\n",
        "  print(f\"{i} is --> {check(i)}\")"
      ],
      "metadata": {
        "colab": {
          "base_uri": "https://localhost:8080/"
        },
        "id": "o78Y4lv15bXP",
        "outputId": "de13e301-ccad-4429-bd62-baebb8f258f9"
      },
      "execution_count": null,
      "outputs": [
        {
          "output_type": "stream",
          "name": "stdout",
          "text": [
            "45 is --> Odd\n",
            "22 is --> Even\n",
            "46 is --> Even\n",
            "89 is --> Odd\n"
          ]
        }
      ]
    },
    {
      "cell_type": "markdown",
      "source": [
        "**Q15. Write a code that uses a lambda function to concatenate two strings.**"
      ],
      "metadata": {
        "id": "YYWCfqi67li9"
      }
    },
    {
      "cell_type": "code",
      "source": [
        "string_concat=lambda s1,s2 : s1+s2\n",
        "s1,s2=\"Data Science\",\" Generative AI\"\n",
        "print(f\"Concatination of string {s1} and {s2} using Lambda --> {string_concat(s1,s2)}\")"
      ],
      "metadata": {
        "colab": {
          "base_uri": "https://localhost:8080/"
        },
        "id": "U4ng2AXZ7l6V",
        "outputId": "2fdc314f-6683-4b5f-a59b-aaea4cb46418"
      },
      "execution_count": null,
      "outputs": [
        {
          "output_type": "stream",
          "name": "stdout",
          "text": [
            "Concatination of string Data Science and  Generative AI using Lambda --> Data Science Generative AI\n"
          ]
        }
      ]
    },
    {
      "cell_type": "markdown",
      "source": [
        "**Q16. Write a cods that uses a lambda function to find the maximum of three given numbers.**"
      ],
      "metadata": {
        "id": "skhe4maL8oLv"
      }
    },
    {
      "cell_type": "code",
      "source": [
        "a,b,c=-45,96,-45.88\n",
        "max_finder= lambda a,b,c : a if(a>=b and a>=c) else (b if(b>=c) else c)  # Logic to find for the largest number among three numnbers\n",
        "print(f\"The Maximum of the three No.s {a},{b},{c} are : {max_finder(a,b,c)}\")"
      ],
      "metadata": {
        "colab": {
          "base_uri": "https://localhost:8080/"
        },
        "id": "Cp-tsuLX8ofu",
        "outputId": "4e314b86-63bb-4a93-980a-939e706a268a"
      },
      "execution_count": null,
      "outputs": [
        {
          "output_type": "stream",
          "name": "stdout",
          "text": [
            "The Maximum of the three No.s -45,96,-45.88 are : 96\n"
          ]
        }
      ]
    },
    {
      "cell_type": "markdown",
      "source": [
        "**Q17. Write a code that generates the squares of even numbers from a given list.**"
      ],
      "metadata": {
        "id": "PpXmB6R99g7G"
      }
    },
    {
      "cell_type": "code",
      "source": [
        "lst=[22, 24, 17, 37, 16, 21, 13, 22, 30, 14, 18, 35, 35, 15, 17]  # A sample list of random integers\n",
        "for i in filter((lambda x : True if(x%2==0) else False),lst):  #Filter function used to seperate out Even Numbers\n",
        "  print(f\"{i} square --> {i**2}\")"
      ],
      "metadata": {
        "colab": {
          "base_uri": "https://localhost:8080/"
        },
        "id": "LPqRP6Rw9hWo",
        "outputId": "2e59eaa2-b209-4b9a-fd7a-4847047eb794"
      },
      "execution_count": null,
      "outputs": [
        {
          "output_type": "stream",
          "name": "stdout",
          "text": [
            "22 square --> 484\n",
            "24 square --> 576\n",
            "16 square --> 256\n",
            "22 square --> 484\n",
            "30 square --> 900\n",
            "14 square --> 196\n",
            "18 square --> 324\n"
          ]
        }
      ]
    },
    {
      "cell_type": "markdown",
      "source": [
        "**Q18. Write a code that calculates the product of positive numbers from a given list.**"
      ],
      "metadata": {
        "id": "WHAlMbBaBMGG"
      }
    },
    {
      "cell_type": "code",
      "source": [
        "from functools import reduce\n",
        "lst=[-8, -5, 2, -9, 2, -2, -6, -1, -1, 8, 8, -4, -2, 6, -5]\n",
        "\n",
        "positive_pro=reduce((lambda x,y : x*y),(filter((lambda x : True if(x>=0) else False),lst)))\n",
        "print(f\"Product of all +ve Numbers from the given list {lst} ---> {positive_pro}\")"
      ],
      "metadata": {
        "colab": {
          "base_uri": "https://localhost:8080/"
        },
        "id": "_2yb6NZYBMZn",
        "outputId": "dd438347-dacb-43d2-b9cc-003a90c6e765"
      },
      "execution_count": null,
      "outputs": [
        {
          "output_type": "stream",
          "name": "stdout",
          "text": [
            "Product of all +ve Numbers from the given list [-8, -5, 2, -9, 2, -2, -6, -1, -1, 8, 8, -4, -2, 6, -5] ---> 1536\n"
          ]
        }
      ]
    },
    {
      "cell_type": "markdown",
      "source": [
        "**Q19. Write a code that doubles the values of odd numbers from a given list.**"
      ],
      "metadata": {
        "id": "4BUragv4uOth"
      }
    },
    {
      "cell_type": "code",
      "source": [
        "lst=[21, 37, 32, 27, 16, 27, 16, 34, 20, 26, 36, 19, 36, 26, 32]  # A sample list of Integer Numbers\n",
        "\n",
        "for i in filter((lambda x : True if(x%2==1) else False),lst):  #Filtering out the odd numbers from the List\n",
        "  print(f\"{i} double ---> {i*2}\")"
      ],
      "metadata": {
        "colab": {
          "base_uri": "https://localhost:8080/"
        },
        "id": "azxOQzIauO9Y",
        "outputId": "7b3e998e-841c-481d-fcf0-f833ad1dfaa8"
      },
      "execution_count": null,
      "outputs": [
        {
          "output_type": "stream",
          "name": "stdout",
          "text": [
            "21 double ---> 42\n",
            "37 double ---> 74\n",
            "27 double ---> 54\n",
            "27 double ---> 54\n",
            "19 double ---> 38\n"
          ]
        }
      ]
    },
    {
      "cell_type": "markdown",
      "source": [
        "**Q20. Write a code that calculates the sum of cubes of numbers from a given list.**"
      ],
      "metadata": {
        "id": "AHZLgD37u-yu"
      }
    },
    {
      "cell_type": "code",
      "source": [
        "lst=[15, 35, 30, 15, 37, 36, 24]\n",
        "\n",
        "sum_cubes=reduce((lambda x,y : x+y),(map((lambda x : x**3),lst)))  # Implementing logic using reduce and map function\n",
        "print(f\"Sum of Cubes of all the Items in list {lst}---> {sum_cubes}\")"
      ],
      "metadata": {
        "colab": {
          "base_uri": "https://localhost:8080/"
        },
        "id": "I7O-BVc5u_Fu",
        "outputId": "fa5abe35-d8ee-45c1-919d-326b5e028663"
      },
      "execution_count": null,
      "outputs": [
        {
          "output_type": "stream",
          "name": "stdout",
          "text": [
            "Sum of Cubes of all the Items in list [15, 35, 30, 15, 37, 36, 24]---> 187758\n"
          ]
        }
      ]
    },
    {
      "cell_type": "markdown",
      "source": [
        "**Q21. Write a code that filters out prime numbers from a given list.**"
      ],
      "metadata": {
        "id": "pQUmc8_LzOmk"
      }
    },
    {
      "cell_type": "code",
      "source": [
        "lst=[17, 89, 14, 74, 36, 47, 15, 76, 88, 51, 40, 85, 21, 49, 51, 77, 19]  # A sample list of Integers\n",
        "\n",
        "print(f\"List of Prime Numbers from {lst}\")\n",
        "for i in filter(is_prime,lst):  # is_prime(num) function re-used from Q10 to check for a given number is prime or not\n",
        "  print(i,end=' ')"
      ],
      "metadata": {
        "colab": {
          "base_uri": "https://localhost:8080/"
        },
        "id": "UGj3yVs4zO5d",
        "outputId": "b2161c37-c249-4513-f330-281e3e3f0696"
      },
      "execution_count": null,
      "outputs": [
        {
          "output_type": "stream",
          "name": "stdout",
          "text": [
            "List of Prime Numbers from [17, 89, 14, 74, 36, 47, 15, 76, 88, 51, 40, 85, 21, 49, 51, 77, 19]\n",
            "17 89 47 19 "
          ]
        }
      ]
    },
    {
      "cell_type": "markdown",
      "source": [
        "**Q22. Write a code that uses a lambda function to calculate the sum of two numbers.**"
      ],
      "metadata": {
        "id": "GHSHXFAA0RFT"
      }
    },
    {
      "cell_type": "code",
      "source": [
        "sum_num=lambda x,y : (x+y)\n",
        "print(f\"The sum of 36 and 78 is {sum_num(36,78)}\")"
      ],
      "metadata": {
        "colab": {
          "base_uri": "https://localhost:8080/"
        },
        "id": "l0kAxxprtu2K",
        "outputId": "7e70bf32-363b-457e-d254-32df3ac3e2d9"
      },
      "execution_count": 18,
      "outputs": [
        {
          "output_type": "stream",
          "name": "stdout",
          "text": [
            "The sum of 36 and 78 is 114\n"
          ]
        }
      ]
    },
    {
      "cell_type": "markdown",
      "source": [
        "**Q23. Write a code that uses a lambda function to calculate the square of a given number.**\n"
      ],
      "metadata": {
        "id": "wjpL89Hjsujv"
      }
    },
    {
      "cell_type": "code",
      "source": [
        "sq_num=lambda x : x**2\n",
        "num=25\n",
        "print(f\"The Square of {num} is {sq_num(num)} \")"
      ],
      "metadata": {
        "colab": {
          "base_uri": "https://localhost:8080/"
        },
        "id": "Co-nI2Ontxfb",
        "outputId": "8d4b0434-1f6e-447c-a3ac-701128da3995"
      },
      "execution_count": 19,
      "outputs": [
        {
          "output_type": "stream",
          "name": "stdout",
          "text": [
            "The Square of 25 is 625 \n"
          ]
        }
      ]
    },
    {
      "cell_type": "markdown",
      "source": [
        "**Q24. Write a code that uses a lambda function to check whether a given number is even or odd.**"
      ],
      "metadata": {
        "id": "LJw921sStBP7"
      }
    },
    {
      "cell_type": "code",
      "source": [
        "check=lambda x : \"Even\" if(x%2==0) else \"Odd\"  # Lambda function to check for Even or Odd Number\n",
        "\n",
        "for i in (45,22,46,89):  # A tuple of sample numbers to check for Even and Odd\n",
        "  print(f\"{i} is --> {check(i)}\")"
      ],
      "metadata": {
        "colab": {
          "base_uri": "https://localhost:8080/"
        },
        "id": "vIzI6ZW0t0pw",
        "outputId": "b263b5f3-7c9c-48e0-e5a6-bb7a8c2ed31c"
      },
      "execution_count": 20,
      "outputs": [
        {
          "output_type": "stream",
          "name": "stdout",
          "text": [
            "45 is --> Odd\n",
            "22 is --> Even\n",
            "46 is --> Even\n",
            "89 is --> Odd\n"
          ]
        }
      ]
    },
    {
      "cell_type": "markdown",
      "source": [
        "**Q25. Write a code that uses a lambda function to concatenate two strings.**\n"
      ],
      "metadata": {
        "id": "yaBId9AatIv_"
      }
    },
    {
      "cell_type": "code",
      "source": [
        "string_concat=lambda s1,s2 : s1+s2\n",
        "s1,s2=\"Data Science\",\" Generative AI\"\n",
        "print(f\"Concatination of string {s1} and {s2} using Lambda --> {string_concat(s1,s2)}\")"
      ],
      "metadata": {
        "colab": {
          "base_uri": "https://localhost:8080/"
        },
        "id": "PRbtIC_yt7Ny",
        "outputId": "9e6f43ab-a02c-40df-d7b3-547ce0c84186"
      },
      "execution_count": 21,
      "outputs": [
        {
          "output_type": "stream",
          "name": "stdout",
          "text": [
            "Concatination of string Data Science and  Generative AI using Lambda --> Data Science Generative AI\n"
          ]
        }
      ]
    },
    {
      "cell_type": "markdown",
      "source": [
        "**Q26. Write a cods that uses a lambda function to find the maximum of three given numbers.**"
      ],
      "metadata": {
        "id": "cKweoHgztVwk"
      }
    },
    {
      "cell_type": "code",
      "source": [
        "a,b,c=-45,96,-45.88\n",
        "max_finder= lambda a,b,c : a if(a>=b and a>=c) else (b if(b>=c) else c)  # Logic to find for the largest number among three numnbers\n",
        "print(f\"The Maximum of the three No.s {a},{b},{c} are : {max_finder(a,b,c)}\")"
      ],
      "metadata": {
        "colab": {
          "base_uri": "https://localhost:8080/"
        },
        "id": "qz-sfvKIt9vC",
        "outputId": "0b25be5d-aa94-4bdc-f703-f02e70bd4e9b"
      },
      "execution_count": 22,
      "outputs": [
        {
          "output_type": "stream",
          "name": "stdout",
          "text": [
            "The Maximum of the three No.s -45,96,-45.88 are : 96\n"
          ]
        }
      ]
    },
    {
      "cell_type": "markdown",
      "source": [
        "**Q27. What is encapsulation in OOP?**\n",
        "\n",
        "Wrapping up of Data and Function together as a single unit is known as encapsulation"
      ],
      "metadata": {
        "id": "MPDtyZjFmEOQ"
      }
    },
    {
      "cell_type": "markdown",
      "source": [
        "**Q28. Explain the use of access modifiers in Python classes.**\n",
        "\n",
        "Access modifiers are basically used to indicate the scope/visibility of Data Members (attributes) or Member methods of its usage in the program"
      ],
      "metadata": {
        "id": "RxQTlBWQnR7e"
      }
    },
    {
      "cell_type": "markdown",
      "source": [
        "**Q29. What is inheritance in OOP?**\n",
        "\n",
        "Inheritance is basically the property by which object of one class can acquire some common properties of object of another class"
      ],
      "metadata": {
        "id": "vcL8nuptn7Cq"
      }
    },
    {
      "cell_type": "markdown",
      "source": [
        "**30. Define polymorphism in OOP.**\n",
        "\n",
        "The word Polymorphism consist of two words Poly which means \"Many/Muliple\" and Morphism which means \"Forms/States\"\n",
        "Thus Polymorphism is bascially the process of using a function for more than one purpose in an Object Orientied Programming"
      ],
      "metadata": {
        "id": "CllnQaM5oe_Y"
      }
    },
    {
      "cell_type": "markdown",
      "source": [
        "  **Q31. Explain method overriding in Python.**\n",
        "\n",
        "  When both Parent class and Child class have the same function name and signature then Method in Child class will override/executed first as the method in Parent class is known as Method Overriding"
      ],
      "metadata": {
        "id": "Ir_dvdU6pp0P"
      }
    },
    {
      "cell_type": "markdown",
      "source": [
        "**Q32. Define a parent class Animal with a method make_sound that prints \"Generic animal sound\". Create a child class Dog inheriting from Animal with a method make_sound that prints \"Woof!\".**"
      ],
      "metadata": {
        "id": "gDr8br-PqeGc"
      }
    },
    {
      "cell_type": "code",
      "source": [
        "#Parent Class\n",
        "class Animal:\n",
        "  def make_sound(self):\n",
        "    print(\"Generic animal sound\")\n",
        "\n",
        "#Child Class\n",
        "class Dog(Animal):\n",
        "  def make_sound(self):\n",
        "    print(\"Woof!\")\n",
        "\n",
        "ob1=Dog()  #creating object of class Dog\n",
        "ob1.make_sound()\n",
        "\n",
        "ob2=Animal() #creating object of class Animal\n",
        "ob2.make_sound()"
      ],
      "metadata": {
        "colab": {
          "base_uri": "https://localhost:8080/"
        },
        "id": "YbRmRBUumEyC",
        "outputId": "7ad556bc-517e-46cf-ab03-029de7ae5b17"
      },
      "execution_count": null,
      "outputs": [
        {
          "output_type": "stream",
          "name": "stdout",
          "text": [
            "Woof!\n",
            "Generic animal sound\n"
          ]
        }
      ]
    },
    {
      "cell_type": "markdown",
      "source": [
        "**Q33. Define a method move in the Animal class that prints \"Animal moves\". Override the move method in the Dog class to print \"Dog runs.\"**"
      ],
      "metadata": {
        "id": "PpeRO4ppraZl"
      }
    },
    {
      "cell_type": "code",
      "source": [
        "#Parent Class\n",
        "class Animal:\n",
        "  def move(self):\n",
        "    print(\"Animal moves\")\n",
        "\n",
        "#Child Class\n",
        "class Dog(Animal):\n",
        "  def move(self):\n",
        "    print(\"Dog Runs\")\n",
        "\n",
        "ob1=Dog()  #creating object of class Dog\n",
        "ob1.move()  # move method being overidden by child class"
      ],
      "metadata": {
        "colab": {
          "base_uri": "https://localhost:8080/"
        },
        "id": "rkqJ--0DrZnc",
        "outputId": "b1cfd074-4366-40cd-dcb0-2192c27be37f"
      },
      "execution_count": null,
      "outputs": [
        {
          "output_type": "stream",
          "name": "stdout",
          "text": [
            "Dog Runs\n"
          ]
        }
      ]
    },
    {
      "cell_type": "markdown",
      "source": [
        "**Q34. Create a class Mammal with a method reproduce that prints \"Giving birth to live young.\" Create a class DogMammal inheriting from both Dog and Mammal.**"
      ],
      "metadata": {
        "id": "EVmPMVpMr97s"
      }
    },
    {
      "cell_type": "code",
      "source": [
        "#2nd parent class , 1st parent class already defined the cell above\n",
        "class Mammal:\n",
        "  def reproduce(self):\n",
        "    print(\"Giving birth to live youngs\")\n",
        "\n",
        "class DogMammal(Dog,Mammal):   #class inheriting from two parent class\n",
        "  pass      #multilevel inheritance"
      ],
      "metadata": {
        "id": "c7kqhA3Rr-Nw"
      },
      "execution_count": null,
      "outputs": []
    },
    {
      "cell_type": "markdown",
      "source": [
        "**Q35. Create a class German Shepherd inheriting from Dog and override the make_sound method to print \"Bark!\"**\n"
      ],
      "metadata": {
        "id": "WOmUbOtat5f_"
      }
    },
    {
      "cell_type": "code",
      "source": [
        "#Parent class\n",
        "class Dog:\n",
        "  def make_sound(self):\n",
        "    print(\"Woof!\")\n",
        "\n",
        "#child class\n",
        "class GermanShephered(Dog):\n",
        "  def make_sound(self):\n",
        "    print(\"Bark\")\n",
        "\n",
        "ob1=GermanShephered()  # creating object of child class\n",
        "ob1.make_sound()  # method overrding"
      ],
      "metadata": {
        "colab": {
          "base_uri": "https://localhost:8080/"
        },
        "id": "Ik4jb2FXt-3K",
        "outputId": "185ca4c1-4621-4d3e-ad1c-bae34d3ac51d"
      },
      "execution_count": null,
      "outputs": [
        {
          "output_type": "stream",
          "name": "stdout",
          "text": [
            "Bark\n"
          ]
        }
      ]
    },
    {
      "cell_type": "markdown",
      "source": [
        "**Q36. Define constructors in both the Animal and Dog classes with different initialization parameters.**"
      ],
      "metadata": {
        "id": "Nut9Kz4Zwtvu"
      }
    },
    {
      "cell_type": "code",
      "source": [
        "#Parent Class\n",
        "class Animal:\n",
        "  def __init__(self,age):  #constructor for parent class with age parameter\n",
        "    self.age=age\n",
        "  def make_sound(self):\n",
        "    print(\"Generic animal sound\")\n",
        "\n",
        "#Child Class\n",
        "class Dog(Animal):\n",
        "  def __init__(self,breed,age):\n",
        "    self.breed=breed\n",
        "    self.age=age  # constructor for child class with breed and age as parameter\n",
        "  def make_sound(self):\n",
        "    print(\"Woof!\")"
      ],
      "metadata": {
        "id": "PMHkb7FEwuA0"
      },
      "execution_count": null,
      "outputs": []
    },
    {
      "cell_type": "markdown",
      "source": [
        "**Q37. What is abstraction in Python? How is it implentented?**\n",
        "\n",
        "Abstraction referes to the act of reperesenting essential features without including background details.\n",
        "\n",
        "**Implementation** --> Abstraction is implemented by importing a module name \"abc\"\n",
        "using imported module we use the decorator @abc.abstractmethod to impose abstraction to an method in class"
      ],
      "metadata": {
        "id": "Zco02A_jx2E8"
      }
    },
    {
      "cell_type": "markdown",
      "source": [
        "**Q38. Explain the importance of abstraction in object-oriented programming.**\n",
        "\n",
        "The importance of bstraction are as follows :\n",
        "* It reduces the complexity of viewing the things by just giving the user a very high level implementation without including the background details.\n",
        "\n",
        "* Promotes security of a program/application as only required-relevant details are only exposed to the users\n",
        "\n",
        "* Avoid code duplication and increases code reusability"
      ],
      "metadata": {
        "id": "y_OmKqzW2zrS"
      }
    },
    {
      "cell_type": "markdown",
      "source": [
        "**Q39. How are abstract methods different from regular methods in Python?**\n",
        "\n",
        "* Abstract methods have a \"@abc.abstractmethod\" decorater with them while regular method can have decoraters but not \"@abc.abstractmethod\"\n",
        "\n",
        "* Inorder to implement an abstract method we need to import module \"abc\" , while in order to implement a regular method we need not to import any such \"abc\" module\n",
        "\n",
        "* Abstract methods only give an upper-overview of the funcnationality while regular methods actually deals with the computation complexity of that funcnationality"
      ],
      "metadata": {
        "id": "dUhDBE6G4s4l"
      }
    },
    {
      "cell_type": "markdown",
      "source": [
        "**Q40. How can you achieve abstraction using interfaces in Python?**\n",
        "\n"
      ],
      "metadata": {
        "id": "VNnQ7dg46Sq4"
      }
    },
    {
      "cell_type": "markdown",
      "source": [
        "**Q41. Can you provide an example of how abstraction can be utilized to create a common interface for a group of related classes in Python?**"
      ],
      "metadata": {
        "id": "_jo7iZJ67A9M"
      }
    },
    {
      "cell_type": "code",
      "source": [
        "from abc import ABC,abstractmethod\n",
        "\n",
        "class Car(ABC):  #Abstract base class to give an high level understanding of the functionalities of the car\n",
        "#class Car method acting as common interface\n",
        "    @abstractmethod\n",
        "    def Acclreation(self):  #Abstrct methods for all cars\n",
        "        \"\"\" Defines the Acclretations deatils of the car (Actual details hidden)\"\"\"\n",
        "        pass\n",
        "\n",
        "    @abstractmethod\n",
        "    def Cooling_Ventilations(self): #Abstract method for all cars\n",
        "        \"\"\"Gives infor about the Cooling and Ventilation aspect of the \"\"\"\n",
        "        pass\n",
        "\n",
        "class Sports_Car(Car):\n",
        "    def Acclreation(self): # Inheriting the Abstract Class\n",
        "        return(\"Acclreation speed 0-100Kmph in 5.2 sec\")\n",
        "\n",
        "    def Cooling_Ventilations(self):\n",
        "        return(\"Dual channel cooling\")\n",
        "\n",
        "class Family_Car(Car):  # Inheriting the Absatrct Class\n",
        "    def Acclreation(self):\n",
        "        return(\"Acclreation speed 0-50 Kmph in 10.2 sec\")\n",
        "\n",
        "    def Cooling_Ventilations(self):\n",
        "        return(\"Single Channel Air cooled\")\n",
        "\n",
        "porsche=Sports_Car()\n",
        "alto=Family_Car()\n",
        "\n",
        "print(porsche.Acclreation())\n",
        "print(alto.Acclreation())"
      ],
      "metadata": {
        "colab": {
          "base_uri": "https://localhost:8080/"
        },
        "id": "at29H7Vm6RWl",
        "outputId": "59a968e1-802e-4d0f-8d4e-2e424474e564"
      },
      "execution_count": null,
      "outputs": [
        {
          "output_type": "stream",
          "name": "stdout",
          "text": [
            "Acclreation speed 0-100Kmph in 5.2 sec\n",
            "Acclreation speed 0-50 Kmph in 10.2 sec\n"
          ]
        }
      ]
    },
    {
      "cell_type": "markdown",
      "source": [
        "**Q42. How does Python achieve polymorphism through method overriding?**"
      ],
      "metadata": {
        "id": "5Nx_M19_7fW8"
      }
    },
    {
      "cell_type": "code",
      "source": [
        "# Demonstrating achievement of Polymorphism through method overriding\n",
        "\n",
        "class A: #Parent class\n",
        "  def display(self):\n",
        "    print(\"YOU ARE CURRENTLY IN CLASS A\")\n",
        "\n",
        "class B(A): #class B inheriting class A\n",
        "  def display(self):   #overiding the method \"display\"\n",
        "    print(\"YOU ARE CURRENTLY IN CLASS B\")\n",
        "\n",
        "ob1=B()  #careting object of class B\n",
        "ob2=A() # creating object of class A\n",
        "\n",
        "#using the same display function for more than one purpose\n",
        "ob1.display()   #Purpose 1\n",
        "ob2.display() # Purpose 2\n"
      ],
      "metadata": {
        "colab": {
          "base_uri": "https://localhost:8080/"
        },
        "id": "KV5EHIT77kye",
        "outputId": "b5fd7aec-6eb7-41dd-f4cf-3c8b040da5b0"
      },
      "execution_count": null,
      "outputs": [
        {
          "output_type": "stream",
          "name": "stdout",
          "text": [
            "YOU ARE CURRENTLY IN CLASS B\n",
            "YOU ARE CURRENTLY IN CLASS A\n"
          ]
        }
      ]
    },
    {
      "cell_type": "markdown",
      "source": [
        "**Q43. Define a base class with a method and a subclass that overrides the method.**"
      ],
      "metadata": {
        "id": "JBmFgExq9b5Z"
      }
    },
    {
      "cell_type": "code",
      "source": [
        "class A: #Parent class\n",
        "  def display(self):\n",
        "    print(\"YOU ARE CURRENTLY IN CLASS A\")\n",
        "\n",
        "class B(A): #class B inheriting class A\n",
        "  def display(self):   #overiding the method \"display\"\n",
        "    print(\"YOU ARE CURRENTLY IN CLASS B\")\n",
        "\n",
        "ob1=B()  #careting object of class B\n",
        "ob1.display()"
      ],
      "metadata": {
        "colab": {
          "base_uri": "https://localhost:8080/"
        },
        "id": "exdZQviU9gaD",
        "outputId": "dcff9a40-3ac7-4cf4-9828-10549a039539"
      },
      "execution_count": null,
      "outputs": [
        {
          "output_type": "stream",
          "name": "stdout",
          "text": [
            "YOU ARE CURRENTLY IN CLASS B\n"
          ]
        }
      ]
    },
    {
      "cell_type": "markdown",
      "source": [
        "**Q44. Define a base class and multiple subclasses with overridden methods.**"
      ],
      "metadata": {
        "id": "l4TjQbzW9yEM"
      }
    },
    {
      "cell_type": "code",
      "source": [
        "class A: #Parent class\n",
        "  def display(self):\n",
        "    print(\"YOU ARE CURRENTLY IN CLASS A\")\n",
        "\n",
        "class B(A): #class B inheriting class A\n",
        "  def display(self):   #overiding the method \"display\"\n",
        "    print(\"YOU ARE CURRENTLY IN CLASS B\")\n",
        "\n",
        "class C(A): #class C inheriting class A\n",
        "  def display(self):   #overiding the method \"display\"\n",
        "    print(\"YOU ARE CURRENTLY IN CLASS C\")\n",
        "\n",
        "ob1=B()  #careting object of class B\n",
        "ob2=A() # creating object of class A\n",
        "ob3=C() # creating object of class C\n",
        "\n",
        "ob3.display()\n",
        "ob2.display()\n",
        "ob1.display()\n"
      ],
      "metadata": {
        "id": "j88P2n5D-D8P",
        "colab": {
          "base_uri": "https://localhost:8080/"
        },
        "outputId": "8115123f-878a-4045-cb24-689a14a7527f"
      },
      "execution_count": null,
      "outputs": [
        {
          "output_type": "stream",
          "name": "stdout",
          "text": [
            "YOU ARE CURRENTLY IN CLASS C\n",
            "YOU ARE CURRENTLY IN CLASS A\n",
            "YOU ARE CURRENTLY IN CLASS B\n"
          ]
        }
      ]
    },
    {
      "cell_type": "markdown",
      "source": [
        "**Q45. How does polymorphism improve code readability and reusability?**\n",
        "\n",
        "Polymorphism improves codes Readability and Reusability in the following ways:\n",
        "1. Firstly polymorphism helps to keep the same External Interface by using different internal structures of the object thereby encouraging code reusability\n",
        "\n",
        "2.  By using polymorphic constructs such as method overriding and interface implementation, developers can express the relationships between objects in a more intuitive and readable manner."
      ],
      "metadata": {
        "id": "yLOlQD70fOxt"
      }
    },
    {
      "cell_type": "markdown",
      "source": [
        "**Q46. Describe how Python supports polymorphism with duck typing.**\n",
        "\n"
      ],
      "metadata": {
        "id": "Bn6oLTd_h75v"
      }
    },
    {
      "cell_type": "code",
      "source": [
        "def make_sound(animal):\n",
        "  animal.make_sound()  # We don't check the animal's type\n",
        "\n",
        "class Dog:\n",
        "  def make_sound(self):\n",
        "    print(\"Woof!\")\n",
        "\n",
        "class Cat:\n",
        "  def make_sound(self):\n",
        "    print(\"Meow!\")\n",
        "\n",
        "my_dog = Dog()\n",
        "my_cat = Cat()\n",
        "\n",
        "make_sound(my_dog)  # Output: Woof!\n",
        "make_sound(my_cat)  # Output: Meow!\n"
      ],
      "metadata": {
        "colab": {
          "base_uri": "https://localhost:8080/"
        },
        "id": "ai2wyXULh7dW",
        "outputId": "512e1073-f492-4166-bb0a-689a831063a4"
      },
      "execution_count": null,
      "outputs": [
        {
          "output_type": "stream",
          "name": "stdout",
          "text": [
            "Woof!\n",
            "Meow!\n"
          ]
        }
      ]
    },
    {
      "cell_type": "markdown",
      "source": [
        "**Q47. How do you achieve encapsulation in Python?**\n"
      ],
      "metadata": {
        "id": "OU519FBorZ8y"
      }
    },
    {
      "cell_type": "code",
      "source": [
        "class Basic_Details:\n",
        "    def __init__(self,name,id,DOB):\n",
        "        self.name=name\n",
        "        self.__id=id   # Private Data Member\n",
        "        self._DOB=DOB  # Protected Data Member\n",
        "\n",
        "class Course(Basic_Details):\n",
        "    def __init__(self,c_name,c_id,name,id,DOB):\n",
        "        self.c_name=c_name\n",
        "        self.c_id=c_id\n",
        "        super().__init__(name,id,DOB)  # Other way --> Basic_Details.__init()__(self)\n",
        "        #Invoking constructor of Base Class\n",
        "\n",
        "    def print_details(self):\n",
        "        print(f\"Name--> {self.name} , DOB --> {self._DOB} , Course --> {self.c_name}\")\n",
        "        # Accessing Protected data members in the inherited class\n",
        "\n",
        "ob=Course(\"Data Science\",\"04_2024\",\"ABIR\",256,\"02/06/2002\")\n",
        "ob.print_details()"
      ],
      "metadata": {
        "colab": {
          "base_uri": "https://localhost:8080/"
        },
        "id": "7TzR5ZJYsUC2",
        "outputId": "bc40a6ea-7637-4525-8ef4-f16d2fa381de"
      },
      "execution_count": null,
      "outputs": [
        {
          "output_type": "stream",
          "name": "stdout",
          "text": [
            "Name--> ABIR , DOB --> 02/06/2002 , Course --> Data Science\n"
          ]
        }
      ]
    },
    {
      "cell_type": "markdown",
      "source": [
        "**Q48. Can encapsulation be bypassed in Python? If so, how?**"
      ],
      "metadata": {
        "id": "EOHmQsA-s6Wa"
      }
    },
    {
      "cell_type": "code",
      "source": [
        "\"\"\"Bypassing Encapsulation in Python using setters i.e property decorators \"\"\"\n",
        "\n",
        "class Student:\n",
        "  def __init__(self,name,roll_num):\n",
        "    self.name=name\n",
        "    self.__roll_num=roll_num\n",
        "\n",
        "  @property\n",
        "  def Access_roll(self):   #method tp indirectly access the private variable from outside the visibility of the class\n",
        "    return self.__roll_num\n",
        "\n",
        "  @Access_roll.setter\n",
        "  def Modify_Roll(self,new_roll):  #method to bypass private variable and modify/alter it\n",
        "    self.__roll_num=new_roll    # changing the value of private variable\n",
        "\n",
        "Ben=Student(\"Ben\",\"BTCS/017\")\n",
        "print(f\"Before Bypassing Roll Number --> {Ben.Access_roll}\")   # accessing private variable roll outside the scope of the class\n",
        "Ben.Modify_Roll=\"SPAM ROLL NUMBER\"\n",
        "print(f\"After Bypassing Roll Number --> {Ben.Access_roll}\")  # Roll number after bypasing the the private varaible and modifying it"
      ],
      "metadata": {
        "colab": {
          "base_uri": "https://localhost:8080/"
        },
        "id": "D6UD6GxHu-ob",
        "outputId": "b27001a9-69f2-4f87-a6d8-5f8a41f1fac7"
      },
      "execution_count": null,
      "outputs": [
        {
          "output_type": "stream",
          "name": "stdout",
          "text": [
            "Before Bypassing Roll Number --> BTCS/017\n",
            "After Bypassing Roll Number --> SPAM ROLL NUMBER\n"
          ]
        }
      ]
    },
    {
      "cell_type": "markdown",
      "source": [
        "**Q49. Implement a class BankAccount with a private balance attribute. Include methods to deposit, withdraw, and check the balance.**"
      ],
      "metadata": {
        "id": "P_ADwVfNxMdG"
      }
    },
    {
      "cell_type": "code",
      "source": [
        "class BankAccount:\n",
        "  def __init__(self,balance,name):\n",
        "    self.__balance,self.name=balance,name\n",
        "\n",
        "  @classmethod\n",
        "  def Get_Info(cls,name,balance):\n",
        "    return(cls(balance,name))\n",
        "\n",
        "  def Deposit(self,dep_amt):  #Method to deposit amount\n",
        "    if(dep_amt>=1):\n",
        "      self.__balance=self.__balance+dep_amt\n",
        "      print(f\"{dep_amt} Credited succesfully\")\n",
        "    else:\n",
        "      print(\"Deposit not possible\")\n",
        "\n",
        "  def Withdrawl(self,with_amt):   #Method to depit amount\n",
        "    if(with_amt>self.__balance):\n",
        "      print(\"Withdrawl not possible\")\n",
        "    else:\n",
        "      self.__balance=self.__balance-with_amt\n",
        "      print(f\"{with_amt} Debited succesfully\")\n",
        "\n",
        "  def CheckBalance(self):\n",
        "      print(\"\\nName\\t\\tBalance\")\n",
        "      print(f\"{self.name}\\t\\t{self.__balance}\")\n",
        "\n",
        "ob1=BankAccount.Get_Info(\"Sam\",10000)\n",
        "ob2=BankAccount.Get_Info(\"Ben\",500)\n",
        "\n",
        "ob1.Deposit(450); ob2.Withdrawl(120)\n",
        "ob1.CheckBalance()\n",
        "ob2.CheckBalance()"
      ],
      "metadata": {
        "colab": {
          "base_uri": "https://localhost:8080/"
        },
        "id": "GnOIPU2vxYh1",
        "outputId": "8a846364-1753-4e31-eebd-9e99856f6f19"
      },
      "execution_count": null,
      "outputs": [
        {
          "output_type": "stream",
          "name": "stdout",
          "text": [
            "450 Credited succesfully\n",
            "120 Debited succesfully\n",
            "\n",
            "Name\t\tBalance\n",
            "Sam\t\t10450\n",
            "\n",
            "Name\t\tBalance\n",
            "Ben\t\t380\n"
          ]
        }
      ]
    },
    {
      "cell_type": "markdown",
      "source": [
        "**Q50 Develope a Person class with private attribute name and email , and method to set and get email**"
      ],
      "metadata": {
        "id": "DqwAdtBw1SIS"
      }
    },
    {
      "cell_type": "code",
      "source": [
        "class Person:\n",
        "  def __init__(self,name,email):\n",
        "    self.__name,self.__email=name,email\n",
        "\n",
        "  @property\n",
        "  def get_email(self):  # getting email\n",
        "    return(self.__email)\n",
        "\n",
        "  @get_email.setter\n",
        "  def change_mail(self,new_mail):  #setting up of email\n",
        "    self.__email=new_mail\n",
        "\n",
        "ob=Person(\"Bob\",\"abc@gmail.com\")\n",
        "ob2=Person(\"Sam\",\"dfg@gmail.com\")\n",
        "\n",
        "print(f\"{ob.get_email}\")   # Accessing the email\n",
        "ob2.change_mail=\"qwe@gmail.com\"  #setting new mail for 2nd object\n",
        "print(f\"{ob2.get_email}\")"
      ],
      "metadata": {
        "colab": {
          "base_uri": "https://localhost:8080/"
        },
        "id": "22ifxsYI1fua",
        "outputId": "b0fab7fe-b744-4749-d146-1c0327a43ed4"
      },
      "execution_count": null,
      "outputs": [
        {
          "output_type": "stream",
          "name": "stdout",
          "text": [
            "abc@gmail.com\n",
            "qwe@gmail.com\n"
          ]
        }
      ]
    },
    {
      "cell_type": "markdown",
      "source": [
        "**Q51 Why Encapsulation is considered as the pillar of Object_Oriented_Programming(OOP)**\n",
        "\n",
        "The reasons of considering Encapsulation as the pillars of OOP's are as follows:\n",
        "\n",
        "1. Helps to give restricted/controlled access of data members/member methods to the user.\n",
        "\n",
        "2. Reduces down the complexity of interface by showing only essential features only without including background details"
      ],
      "metadata": {
        "id": "4vd6b3fz5GHO"
      }
    },
    {
      "cell_type": "markdown",
      "source": [
        "**Q52. Create a decorator in Python that adds functionality to a simple function by printing a message before and after the function execution.**"
      ],
      "metadata": {
        "id": "lBFVwWHZ5-oH"
      }
    },
    {
      "cell_type": "code",
      "source": [
        "def my_decorator(func):       # creating my own custom decorator\n",
        "  def Wrapper():\n",
        "    print(\"BEFORE FUNCTION CALL\")   # printing before function computation\n",
        "    func()\n",
        "    print(\"AFTER FUNCTION CALL\")   # printing after function computation\n",
        "  return Wrapper\n",
        "\n",
        "@my_decorator\n",
        "def foo():\n",
        "  print(\"HELLO OOP'S IN DATA SCIENCE\")\n",
        "foo()"
      ],
      "metadata": {
        "colab": {
          "base_uri": "https://localhost:8080/"
        },
        "id": "mjyMVRn1LdY2",
        "outputId": "df94b929-28b3-4b44-9292-4a10e9522b70"
      },
      "execution_count": null,
      "outputs": [
        {
          "output_type": "stream",
          "name": "stdout",
          "text": [
            "BEFORE FUNCTION CALL\n",
            "HELLO OOP'S IN DATA SCIENCE\n",
            "AFTER FUNCTION CALL\n"
          ]
        }
      ]
    },
    {
      "cell_type": "markdown",
      "source": [
        "**Q53. Modify the decorator to accept arguments and print the function name along with the message.**"
      ],
      "metadata": {
        "id": "pLVKrcifM1WM"
      }
    },
    {
      "cell_type": "code",
      "source": [
        "def decorator_maker(*args):\n",
        "  def my_decorator(func):\n",
        "    def wrapper():\n",
        "      print(f\"Arguments from Decorator : {args}\")\n",
        "      print(f\"Name of our decorated function ---> {func.__name__}\")  #printing name of the function\n",
        "      func()  # calling the function to be decorated\n",
        "    return wrapper\n",
        "  return my_decorator  # return of the entire decorator\n",
        "\n",
        "@decorator_maker(\"Fun\",420)\n",
        "def fun():\n",
        "  print(\"I AM BEING DECORATED\")\n",
        "\n",
        "fun()"
      ],
      "metadata": {
        "colab": {
          "base_uri": "https://localhost:8080/"
        },
        "id": "b0daBa2PM6sg",
        "outputId": "e1129338-e4c0-48c3-9014-880a84e8ebc8"
      },
      "execution_count": null,
      "outputs": [
        {
          "output_type": "stream",
          "name": "stdout",
          "text": [
            "Arguments from Decorator : ('Fun', 420)\n",
            "Name of our decorated function ---> fun\n",
            "I AM BEING DECORATED\n"
          ]
        }
      ]
    },
    {
      "cell_type": "markdown",
      "source": [
        "**Q54. Create two decorators, and apply them to a single function. Ensure that they execute in the order they are applied.**"
      ],
      "metadata": {
        "id": "MprcHnYCRAxh"
      }
    },
    {
      "cell_type": "code",
      "source": [
        "def my_decorator1(func):       # creating my own custom decorator\n",
        "  def Wrapper():\n",
        "    print(\"Decorator 1 in Action\")   # printing before function computation\n",
        "    func()\n",
        "    #print(\"AFTER FUNCTION CALL\")   # printing after function computation\n",
        "  return Wrapper\n",
        "\n",
        "def my_decorator2(func):       # creating my own custom decorator\n",
        "  def Wrapper():\n",
        "    print(\"Decorator 2 in Action\")   # printing before function computation\n",
        "    func()\n",
        "    #print(\"AFTER FUNCTION CALL\")   # printing after function computation\n",
        "  return Wrapper\n",
        "\n",
        "@my_decorator1\n",
        "@my_decorator2\n",
        "def foo():\n",
        "  print(\"HELLO OOP'S IN DATA SCIENCE\")\n",
        "foo()"
      ],
      "metadata": {
        "colab": {
          "base_uri": "https://localhost:8080/"
        },
        "id": "zsrh012DVCPX",
        "outputId": "d473d6f0-cee3-45e3-f60b-e8ded2378145"
      },
      "execution_count": null,
      "outputs": [
        {
          "output_type": "stream",
          "name": "stdout",
          "text": [
            "Decorator 1 in Action\n",
            "Decorator 2 in Action\n",
            "HELLO OOP'S IN DATA SCIENCE\n"
          ]
        }
      ]
    },
    {
      "cell_type": "markdown",
      "source": [
        "**Q55. Modify the decorator to accept and pass function arguments to the wrapped function.**"
      ],
      "metadata": {
        "id": "ry_qXWfNX_jL"
      }
    },
    {
      "cell_type": "code",
      "source": [
        "def decorator_maker():\n",
        "  def my_decorator(func):\n",
        "    def wrapper(*args):\n",
        "      print(f\"Name of our decorated function ---> {func.__name__}\")  #printing name of the function\n",
        "      func(*args)  # calling the function to be decorated\n",
        "    return wrapper\n",
        "  return my_decorator  # return of the entire decorator\n",
        "\n",
        "@decorator_maker()\n",
        "def fun(a,b):\n",
        "  print(\"I AM BEING DECORATED\")\n",
        "  print(f\"Function arguments to the wrapped function are --> {a,b}\")\n",
        "\n",
        "fun(45,36.025)"
      ],
      "metadata": {
        "colab": {
          "base_uri": "https://localhost:8080/"
        },
        "id": "zzmLiib7YF66",
        "outputId": "7f21a8da-20f3-4d9f-c151-3420bd0dffe3"
      },
      "execution_count": null,
      "outputs": [
        {
          "output_type": "stream",
          "name": "stdout",
          "text": [
            "Name of our decorated function ---> fun\n",
            "I AM BEING DECORATED\n",
            "Function arguments to the wrapped function are --> (45, 36.025)\n"
          ]
        }
      ]
    },
    {
      "cell_type": "markdown",
      "source": [
        "**Q56. Create a decorator that preserves the metadata of the original function.**"
      ],
      "metadata": {
        "id": "RwcYcb9HY89R"
      }
    },
    {
      "cell_type": "markdown",
      "source": [
        "**Q57. Create a Python class Calculator` with a static method 'add' that takes in two numbers and returns their sum.**"
      ],
      "metadata": {
        "id": "dED6sec6iFdH"
      }
    },
    {
      "cell_type": "code",
      "source": [
        "class Calculator:\n",
        "    @staticmethod   # staticmethod decorater\n",
        "    def Add(x,y):\n",
        "        return(x+y)\n",
        "\n",
        "Calculator.Add(45,96.3)  #Invoking method without creating an object"
      ],
      "metadata": {
        "colab": {
          "base_uri": "https://localhost:8080/"
        },
        "id": "R87Hl2SFY8t5",
        "outputId": "c12a4344-0239-4a66-dd2a-79cad8983a3b"
      },
      "execution_count": null,
      "outputs": [
        {
          "output_type": "execute_result",
          "data": {
            "text/plain": [
              "141.3"
            ]
          },
          "metadata": {},
          "execution_count": 19
        }
      ]
    },
    {
      "cell_type": "markdown",
      "source": [
        "**Q58. Create a Python class Employee` with a class method get_employee_count that returns the total number of employees created.**\n",
        "\n"
      ],
      "metadata": {
        "id": "ZE2A-BrWifwQ"
      }
    },
    {
      "cell_type": "code",
      "source": [
        "class Employee:\n",
        "  count=0   #class variable\n",
        "  def __init__(self,name):\n",
        "    self.name=name\n",
        "    Employee.count=Employee.count+1  #Accessing a class variable\n",
        "\n",
        "  @classmethod\n",
        "  def get_employee_count(cls):\n",
        "    return cls.count     #class variable\n",
        "\n",
        "ob1=Employee(\"abc\");ob2=Employee(\"ben\");ob3=Employee(\"sam\");\n",
        "print(f\"Total count of employee = {Employee.get_employee_count()}\")"
      ],
      "metadata": {
        "colab": {
          "base_uri": "https://localhost:8080/"
        },
        "id": "msvq2jV2i7WZ",
        "outputId": "b152cd39-abd2-49bd-96b8-b74aa7d03c1a"
      },
      "execution_count": null,
      "outputs": [
        {
          "output_type": "stream",
          "name": "stdout",
          "text": [
            "Total count of employee = 3\n"
          ]
        }
      ]
    },
    {
      "cell_type": "markdown",
      "source": [
        "**Q59. Create a Python class 'StringFormatter with a static method reverse_string that takes a string as input and returns its reverse.**"
      ],
      "metadata": {
        "id": "PQkfnMQIkN1L"
      }
    },
    {
      "cell_type": "code",
      "source": [
        "class StringFormatter:\n",
        "  @staticmethod\n",
        "  def rev_str(str):  #static method to reverse the string\n",
        "    return(str[::-1])\n",
        "\n",
        "st=\"Hello I am a Data Science Student\"   # sample string\n",
        "print(f\"Original string --> {st} , Reversed form --> {StringFormatter.rev_str(st)}\")"
      ],
      "metadata": {
        "colab": {
          "base_uri": "https://localhost:8080/"
        },
        "id": "qIdGMXmtkSS7",
        "outputId": "d969b6b2-aff6-46f8-bc30-ce07901b2333"
      },
      "execution_count": null,
      "outputs": [
        {
          "output_type": "stream",
          "name": "stdout",
          "text": [
            "Original string --> Hello I am a Data Science Student , Reversed form --> tnedutS ecneicS ataD a ma I olleH\n"
          ]
        }
      ]
    },
    {
      "cell_type": "markdown",
      "source": [
        "**Q60. Create a Python class 'Circle` with a class method 'calculate_area that calculates the area of a circle given its radius.**\n"
      ],
      "metadata": {
        "id": "cIqYX0-rlnlf"
      }
    },
    {
      "cell_type": "code",
      "source": [
        "class Circle:\n",
        "  @classmethod\n",
        "  def calculate_area(cls,rad):  # calss method to calculate the area of circle\n",
        "    return (3.141*rad**2)\n",
        "\n",
        "rad=23.6\n",
        "print(f\"The are of a circle with radius {rad} ---> {Circle.calculate_area(rad)} \")"
      ],
      "metadata": {
        "colab": {
          "base_uri": "https://localhost:8080/"
        },
        "id": "TnytkNAUlnXw",
        "outputId": "bcd3ac7e-9338-4922-aa8d-23453edaf730"
      },
      "execution_count": null,
      "outputs": [
        {
          "output_type": "stream",
          "name": "stdout",
          "text": [
            "The are of a circle with radius 23.6 ---> 1749.41136 \n"
          ]
        }
      ]
    },
    {
      "cell_type": "markdown",
      "source": [
        "**Q61.  Create a Python class TemperatureConverter with a static method celsius_to_fahrenheit that converts Celsius to Fahrenheit.**"
      ],
      "metadata": {
        "id": "rAvSDVlwAGL9"
      }
    },
    {
      "cell_type": "code",
      "source": [
        "class TemperatureConverter:\n",
        "  @staticmethod\n",
        "  def celsius_to_fahrenheit(temp_cel):  #static method for temperature conversion\n",
        "    return((temp_cel*1.8)+32)\n",
        "\n",
        "cel=-56.3\n",
        "print(f\"Celcius --> {cel} , Farenhite --> {TemperatureConverter.celsius_to_fahrenheit(cel)}\")"
      ],
      "metadata": {
        "colab": {
          "base_uri": "https://localhost:8080/"
        },
        "id": "pR8iBgTnAUWD",
        "outputId": "2f56c171-ce76-4e96-f446-d76594c7b4d4"
      },
      "execution_count": null,
      "outputs": [
        {
          "output_type": "stream",
          "name": "stdout",
          "text": [
            "Celcius --> -56.3 , Farenhite --> -69.34\n"
          ]
        }
      ]
    },
    {
      "cell_type": "markdown",
      "source": [
        "**Q62. What is the purpose of the _ _str_ _() method in Python classes? Provide an example.**\n",
        "\n",
        "This method is called when str() function is used on an Object of a class.It should return a string representation of the object\n",
        "\n"
      ],
      "metadata": {
        "id": "YB4dpnAwBYl8"
      }
    },
    {
      "cell_type": "code",
      "source": [
        "# example of __str__method\n",
        "\n",
        "class A:\n",
        "  def __str__(self):\n",
        "    return (\"HELLO THIS OBJECT BELONGS FROM THE CLASS OF TYPE 'A' \")\n",
        "ob=A()\n",
        "print(str(ob))   # str() function applied on the object of the class-A"
      ],
      "metadata": {
        "colab": {
          "base_uri": "https://localhost:8080/"
        },
        "id": "TCDTih-PBbjs",
        "outputId": "7c97cc4a-beb3-4deb-e8a2-5f10aa92fbb8"
      },
      "execution_count": null,
      "outputs": [
        {
          "output_type": "stream",
          "name": "stdout",
          "text": [
            "HELLO THIS OBJECT BELONGS FROM THE CLASS OF TYPE 'A' \n"
          ]
        }
      ]
    },
    {
      "cell_type": "markdown",
      "source": [
        "**Q63. How does the _ _len_ _() method work in Python? Provide an example.**"
      ],
      "metadata": {
        "id": "771oo-CqL6Zj"
      }
    },
    {
      "cell_type": "code",
      "source": [
        "class Shopping:\n",
        "  def __init__(self, lst):\n",
        "    self.lst = lst\n",
        "\n",
        "  def __len__(self):\n",
        "    return len(self.lst)  # Leverage built-in len function on the shopping list\n",
        "\n",
        "ob = Shopping([\"Jam\", \"Umbrella\", \"Atta\"])\n",
        "print(len(ob))  # Output: 3\n"
      ],
      "metadata": {
        "colab": {
          "base_uri": "https://localhost:8080/"
        },
        "id": "sqjBPBNbOYM2",
        "outputId": "4f3ec5d7-6b98-4b19-cc7e-17f184b448f6"
      },
      "execution_count": null,
      "outputs": [
        {
          "output_type": "stream",
          "name": "stdout",
          "text": [
            "3\n"
          ]
        }
      ]
    },
    {
      "cell_type": "markdown",
      "source": [
        "**Q64. Explain the usage of the _ _add_ _() method in Python classes. Provide an example.**\n",
        "\n",
        "This method is called when '+' operator is applied on two instance of the class"
      ],
      "metadata": {
        "id": "bZDFjOBoO9Ii"
      }
    },
    {
      "cell_type": "code",
      "source": [
        "#Example\n",
        "class Coordinate:\n",
        "  def __init__(self,x,y):\n",
        "    self.x,self.y=x,y\n",
        "\n",
        "  def __add__(self,other):\n",
        "    return(Coordinate(self.x+other.x,self.y+other.y))\n",
        "\n",
        "p1,p2=Coordinate(4,5),Coordinate(-9,5)\n",
        "p3=p1+p2  # applying + operator to two instance of the classes\n",
        "print(p3.x,p3.y)"
      ],
      "metadata": {
        "colab": {
          "base_uri": "https://localhost:8080/"
        },
        "id": "TVf-CVwcO84I",
        "outputId": "4ad3c3a7-6565-4d90-f30c-7ffa08348166"
      },
      "execution_count": null,
      "outputs": [
        {
          "output_type": "stream",
          "name": "stdout",
          "text": [
            "-5 10\n"
          ]
        }
      ]
    },
    {
      "cell_type": "markdown",
      "source": [
        "**Q65. What is the purpose of the _ _getitem_ _() method in Python? Provide an example.**"
      ],
      "metadata": {
        "id": "Tg4pjCMsSUdX"
      }
    },
    {
      "cell_type": "code",
      "source": [],
      "metadata": {
        "id": "ryAEKGOVSZ4f"
      },
      "execution_count": null,
      "outputs": []
    },
    {
      "cell_type": "markdown",
      "source": [
        "**Q66. Explain the usage of the _ _iter_ _ () and _ _next_ _ () methods in Python. Provide an example using iterators.**\n",
        "\n",
        "* Usage of **Iter() method**  : Helps to get an iterator from an object.\n",
        "* Usage of **next() methods** : Return the next item from the iterator."
      ],
      "metadata": {
        "id": "3X2KWbMpWaPA"
      }
    },
    {
      "cell_type": "code",
      "source": [
        "# Example\n",
        "\n",
        "a=iter(\"HELLO DATA SCIENCE\")\n",
        "while True:\n",
        "  try:\n",
        "    print(next(a),end=' ')\n",
        "  except StopIteration:\n",
        "    print(\"\\nTHE ITERATOR OBJECT IS EXHAUSTED\")\n",
        "    break"
      ],
      "metadata": {
        "colab": {
          "base_uri": "https://localhost:8080/"
        },
        "id": "AWuZr7eSScAX",
        "outputId": "97492b5c-39aa-4b8b-fd4a-cf6766f1ae61"
      },
      "execution_count": 2,
      "outputs": [
        {
          "output_type": "stream",
          "name": "stdout",
          "text": [
            "H E L L O   D A T A   S C I E N C E \n",
            "THE ITERATOR OBJECT IS EXHAUSTED\n"
          ]
        }
      ]
    },
    {
      "cell_type": "markdown",
      "source": [
        "**Q67. What is the purpose of a getter method in Python? Provide an example demonstrating the use of a getter method using property decorators.**\n",
        "\n",
        "getter method can be used to access private variable of a class outside the visiblity of the class"
      ],
      "metadata": {
        "id": "ebbQZMKNYE99"
      }
    },
    {
      "cell_type": "code",
      "source": [
        "class Student:\n",
        "    def __init__(self, name, price):\n",
        "        self.__name = name    #private varaible\n",
        "        self.__price = price  #private varaible\n",
        "\n",
        "    @property #it will make access_price as attribute of the class\n",
        "    def access_price(self):\n",
        "        return self.__price\n",
        "ob=Student(\"Abir\",4500)\n",
        "ob.access_price  # able to read/get private varaible outside the visiblity of the class"
      ],
      "metadata": {
        "colab": {
          "base_uri": "https://localhost:8080/"
        },
        "id": "EWkJPNpdYFRH",
        "outputId": "345e9d9b-897d-4c07-9d05-3bb5dc8526ce"
      },
      "execution_count": 4,
      "outputs": [
        {
          "output_type": "execute_result",
          "data": {
            "text/plain": [
              "4500"
            ]
          },
          "metadata": {},
          "execution_count": 4
        }
      ]
    },
    {
      "cell_type": "markdown",
      "source": [
        "**Q68. Explain the role of setter methods in Python. Demonstrate how to use a setter method to modify a class attribute using python property decorators**\n",
        "\n",
        "setter method in class can be used to access as well modify a class varaible outside the visiblity of the of the class"
      ],
      "metadata": {
        "id": "FAy1hI8haNB1"
      }
    },
    {
      "cell_type": "code",
      "source": [
        "class Student:\n",
        "    def __init__(self, name, price):\n",
        "        self.__name = name\n",
        "        self.__price = price\n",
        "\n",
        "    @property #it will make access_price as attribute of the class\n",
        "    def access_price(self):\n",
        "        return self.__price\n",
        "\n",
        "    @access_price.setter  # Property decorater to change/modify private variable\n",
        "    def modify_private(self,new_price):\n",
        "        self.__price=new_price  #spammer changed the price XD\n",
        "\n",
        "ob=Student(\"Abir\",4500)\n",
        "print(f\"Before invoking setter methods Course Price--->{ob.access_price}\")\n",
        "ob.modify_private=456\n",
        "print(f\"After invoking setter methods Course Price--->{ob.access_price}\")"
      ],
      "metadata": {
        "colab": {
          "base_uri": "https://localhost:8080/"
        },
        "id": "CwTqh0dta9TE",
        "outputId": "f8a5a1ca-a985-4ab7-a0e5-8cc20d420d18"
      },
      "execution_count": 5,
      "outputs": [
        {
          "output_type": "stream",
          "name": "stdout",
          "text": [
            "Before invoking setter methods Course Price--->4500\n",
            "After invoking setter methods Course Price--->456\n"
          ]
        }
      ]
    },
    {
      "cell_type": "markdown",
      "source": [
        "**Q69.  What is the purpose of the @property decorator in Python? Provide an example illustrating its usage.**\n",
        "\n",
        "* Using @property decorator in Python one can access a member method just like an Attribute of a class without explicility need to call it using () parenthesis.\n",
        "\n",
        "* You can access instance attributes exactly as if they were public attributes while using the \"magic\" of intermediaries (getters and setters) to validate new values and to avoid accessing or modifying the data directly."
      ],
      "metadata": {
        "id": "kOS1f3zdbV7A"
      }
    },
    {
      "cell_type": "code",
      "source": [
        "class A:\n",
        "  def __init__(self,value):\n",
        "    self.__value=value  #private varaible\n",
        "\n",
        "  @property\n",
        "  def foo(self):\n",
        "    return(self.__value)\n",
        "\n",
        "ob=A(45.23)\n",
        "ob.foo      # invoking methods just like accessing attribute"
      ],
      "metadata": {
        "colab": {
          "base_uri": "https://localhost:8080/"
        },
        "id": "K6AL-JFtbZ3S",
        "outputId": "7b180f11-1831-456b-e0e4-080b6a453948"
      },
      "execution_count": 6,
      "outputs": [
        {
          "output_type": "execute_result",
          "data": {
            "text/plain": [
              "45.23"
            ]
          },
          "metadata": {},
          "execution_count": 6
        }
      ]
    },
    {
      "cell_type": "markdown",
      "source": [
        "**Q70. Explain the use of the @deleter decorator in Python property decorators. Provide a code example demonstrating its application.**\n",
        "\n",
        "use of deleter\n",
        "* A deleter - to delete the instance attribute."
      ],
      "metadata": {
        "id": "8pn6NDYIgTFz"
      }
    },
    {
      "cell_type": "code",
      "source": [
        "class HomePrice:\n",
        "  def __init__(self,price):\n",
        "    self.__price=price # private varaible\n",
        "\n",
        "  @property\n",
        "  def get_price(self):\n",
        "    return self.__price\n",
        "\n",
        "  @get_price.deleter  # deleter decorator\n",
        "  def del_price(self):\n",
        "    del self.__price\n",
        "\n",
        "ob=HomePrice(500000)\n",
        "print(f\"Price of Home --> {ob.get_price}\")\n",
        "try:\n",
        "  del ob.del_price\n",
        "  print(f\"Price of Home --> {ob.get_price}\")\n",
        "except AttributeError:\n",
        "  print(f\"Price of Home --> got deleted \") # Raises an Error \"Attribute Error\"  wrapped the exception under try-except caluse\n",
        "#Becuase we are tyring to access an deleted attribute of an Instance"
      ],
      "metadata": {
        "colab": {
          "base_uri": "https://localhost:8080/"
        },
        "id": "CSaWDbFzgWQ4",
        "outputId": "b13fba0c-c100-414c-ea3e-11c9615fc057"
      },
      "execution_count": 15,
      "outputs": [
        {
          "output_type": "stream",
          "name": "stdout",
          "text": [
            "Price of Home --> 500000\n",
            "Price of Home --> got deleted \n"
          ]
        }
      ]
    },
    {
      "cell_type": "markdown",
      "source": [
        "**Q71. How does encapsulation relate to property decorators in Python? Provide an example showcasing encapsulation using property decorators.**\n",
        "\n",
        "Encapsulation helps to give restricted/controlled access to the attributes of an Object , using property decorators one can allow the user to access the private varaibles of an instance that too outside the visibikity of the class.\n",
        "Hence giving the user a feel of his/her control over the instance attributes"
      ],
      "metadata": {
        "id": "5oyrxvj0mk53"
      }
    },
    {
      "cell_type": "code",
      "source": [
        "class Student:\n",
        "    def __init__(self, name, price):\n",
        "        self.__name = name    #private varaible\n",
        "        self.__price = price  #private varaible\n",
        "\n",
        "    @property #it will make access_price as attribute of the class\n",
        "    def access_price(self):\n",
        "        return self.__price\n",
        "ob=Student(\"Abir\",4500)\n",
        "ob.access_price  # able to read/get private varaible outside the visiblity of the class"
      ],
      "metadata": {
        "colab": {
          "base_uri": "https://localhost:8080/"
        },
        "id": "KI4a5TUxmoUS",
        "outputId": "8ad3668e-f442-406f-8289-37b57ed67e53"
      },
      "execution_count": 16,
      "outputs": [
        {
          "output_type": "execute_result",
          "data": {
            "text/plain": [
              "4500"
            ]
          },
          "metadata": {},
          "execution_count": 16
        }
      ]
    }
  ]
}